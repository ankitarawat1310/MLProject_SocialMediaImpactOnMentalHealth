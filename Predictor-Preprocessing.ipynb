{
 "cells": [
  {
   "cell_type": "markdown",
   "id": "ff4e4a6d-ce56-4fee-8356-711f0f4dca2b",
   "metadata": {},
   "source": [
    "Preprocessing and feature engineering"
   ]
  },
  {
   "cell_type": "code",
   "execution_count": 2,
   "id": "2e3070b2-bf72-49b8-ad4a-3e4f04de2f7d",
   "metadata": {},
   "outputs": [],
   "source": [
    "import pandas as pd\n",
    "import numpy as np\n",
    "import matplotlib.pyplot as plt\n",
    "import seaborn as sns\n",
    "import warnings\n",
    "warnings.filterwarnings(\"ignore\")"
   ]
  },
  {
   "cell_type": "code",
   "execution_count": 3,
   "id": "30d743f9-366a-4da9-89e5-b487e1062aee",
   "metadata": {},
   "outputs": [],
   "source": [
    "#Load the dataset\n",
    "df1 = pd.read_csv(\"smmh.csv\")"
   ]
  },
  {
   "cell_type": "code",
   "execution_count": 4,
   "id": "b4beb5d3-0d5b-4fd7-a122-ef2d20dcfa92",
   "metadata": {},
   "outputs": [
    {
     "data": {
      "text/plain": [
       "(481, 21)"
      ]
     },
     "execution_count": 4,
     "metadata": {},
     "output_type": "execute_result"
    }
   ],
   "source": [
    "df1.shape"
   ]
  },
  {
   "cell_type": "code",
   "execution_count": 5,
   "id": "9e99fd7b-8fad-42eb-b7c7-beedcd1a0f20",
   "metadata": {},
   "outputs": [],
   "source": [
    "# Make a working copy\n",
    "df = df1.copy()"
   ]
  },
  {
   "cell_type": "code",
   "execution_count": 6,
   "id": "079eb8f8-7e0e-4e9c-8005-d8a29c4a05e7",
   "metadata": {},
   "outputs": [],
   "source": [
    "# Drop rows with missing values\n",
    "df_clean = df.dropna()"
   ]
  },
  {
   "cell_type": "code",
   "execution_count": 7,
   "id": "8572aa62-ce39-4ce8-a7de-3aa45e18c7b9",
   "metadata": {},
   "outputs": [],
   "source": [
    "#print columns: remove timestamp not important"
   ]
  },
  {
   "cell_type": "code",
   "execution_count": 14,
   "id": "a94f81ce-b8c7-4178-8bb2-fc714db78d98",
   "metadata": {},
   "outputs": [],
   "source": [
    "# Drop irrelevant columns (like Timestamp)\n",
    "df_clean = df_clean.drop(columns=['Timestamp'])"
   ]
  },
  {
   "cell_type": "code",
   "execution_count": 16,
   "id": "37c31ba6-f8e0-41fc-82aa-b71f0a7c721e",
   "metadata": {},
   "outputs": [
    {
     "data": {
      "text/plain": [
       "2. Gender\n",
       "Female                 245\n",
       "Male                   201\n",
       "Nonbinary                1\n",
       "Non-binary               1\n",
       "unsure                   1\n",
       "Non binary               1\n",
       "There are others???      1\n",
       "Name: count, dtype: int64"
      ]
     },
     "execution_count": 16,
     "metadata": {},
     "output_type": "execute_result"
    }
   ],
   "source": [
    "# check the value counts in the Gender column using this line of code:\n",
    "df_clean['2. Gender'].value_counts()"
   ]
  },
  {
   "cell_type": "markdown",
   "id": "0b32d491-f15a-4d95-b94a-fc9322b9c4fe",
   "metadata": {},
   "source": [
    "Since only \"Male\" and \"Female\" have a meaningful count, and the rest (like \"Nonbinary\", \"unsure\", etc.) appear only once, you can simplify this column into two main groups:"
   ]
  },
  {
   "cell_type": "code",
   "execution_count": 19,
   "id": "ffb4b769-f8bb-444d-bfb2-43163324c83c",
   "metadata": {
    "scrolled": true
   },
   "outputs": [
    {
     "name": "stdout",
     "output_type": "stream",
     "text": [
      "2. Gender\n",
      "Female    245\n",
      "Male      201\n",
      "Name: count, dtype: int64\n"
     ]
    }
   ],
   "source": [
    "# Keep only Male and Female, drop others\n",
    "df_clean = df_clean[df_clean['2. Gender'].isin(['Male', 'Female'])]\n",
    "print(df_clean['2. Gender'].value_counts())"
   ]
  },
  {
   "cell_type": "code",
   "execution_count": 21,
   "id": "0ce81688-8153-4748-993b-6b9639e99f62",
   "metadata": {},
   "outputs": [],
   "source": [
    "# Encode as binary: Male = 1, Female = 0\n",
    "df_clean['Gender_binary'] = df_clean['2. Gender'].map({'Male': 1, 'Female': 0})"
   ]
  },
  {
   "cell_type": "code",
   "execution_count": 23,
   "id": "94398e04-8ba0-4423-82a7-5fdbcc34e135",
   "metadata": {},
   "outputs": [],
   "source": [
    "df_clean = df_clean.drop(columns=['2. Gender'])"
   ]
  },
  {
   "cell_type": "code",
   "execution_count": 25,
   "id": "7e2cefff-9065-43e2-89e6-48ca5df71da7",
   "metadata": {
    "scrolled": true
   },
   "outputs": [
    {
     "data": {
      "text/plain": [
       "3. Relationship Status\n",
       "Single               261\n",
       "Married               94\n",
       "In a relationship     85\n",
       "Divorced               6\n",
       "Name: count, dtype: int64"
      ]
     },
     "execution_count": 25,
     "metadata": {},
     "output_type": "execute_result"
    }
   ],
   "source": [
    "df_clean['3. Relationship Status'].value_counts()"
   ]
  },
  {
   "cell_type": "code",
   "execution_count": 27,
   "id": "8a00a0e1-b98a-4be0-9cc6-c1011db4e29c",
   "metadata": {},
   "outputs": [],
   "source": [
    "#function to do one hot coding"
   ]
  },
  {
   "cell_type": "code",
   "execution_count": 29,
   "id": "8b7019e3-cb32-4799-b88f-048709ca2fb6",
   "metadata": {},
   "outputs": [],
   "source": [
    "# Step 1: Define allowed categories\n",
    "allowed_relationships = ['Single', 'Married', 'In a relationship']\n",
    "\n",
    "# Step 2: Filter rows where 'Relationship Status' is one of the allowed values\n",
    "df_clean = df_clean[df_clean['3. Relationship Status'].isin(allowed_relationships)]"
   ]
  },
  {
   "cell_type": "code",
   "execution_count": 31,
   "id": "3b0bf274-5fe9-463b-b000-cffb6fec3bf0",
   "metadata": {},
   "outputs": [],
   "source": [
    "# Apply one-hot encoding to '3. Relationship Status'\n",
    "df_clean = pd.get_dummies(df_clean, columns=['3. Relationship Status'], drop_first=True)"
   ]
  },
  {
   "cell_type": "code",
   "execution_count": 33,
   "id": "10e85d0a-1583-491c-947c-a6cc9312caef",
   "metadata": {},
   "outputs": [],
   "source": [
    "# Convert True/False to 1/0 for relationship status columns\n",
    "df_clean[['3. Relationship Status_Married', '3. Relationship Status_Single']] = \\\n",
    "    df_clean[['3. Relationship Status_Married', '3. Relationship Status_Single']].astype(int)\n"
   ]
  },
  {
   "cell_type": "code",
   "execution_count": 35,
   "id": "6d8594b3-8516-44e5-aa35-d55bab3534cc",
   "metadata": {},
   "outputs": [
    {
     "data": {
      "text/plain": [
       "4. Occupation Status\n",
       "University Student    277\n",
       "Salaried Worker       118\n",
       "School Student         42\n",
       "Retired                 3\n",
       "Name: count, dtype: int64"
      ]
     },
     "execution_count": 35,
     "metadata": {},
     "output_type": "execute_result"
    }
   ],
   "source": [
    "df_clean['4. Occupation Status'].value_counts()"
   ]
  },
  {
   "cell_type": "markdown",
   "id": "229def72-e2e5-40c1-9a26-fb2fb62ac4f2",
   "metadata": {},
   "source": [
    "dropping Retired due to low count"
   ]
  },
  {
   "cell_type": "code",
   "execution_count": 38,
   "id": "c7314d15-d9bf-4466-b915-8dac52633b8d",
   "metadata": {},
   "outputs": [],
   "source": [
    "# Drop \"Retired\" from Occupation\n",
    "# Filter out rows where occupation is 'Retired'\n",
    "df_clean = df_clean[df_clean['4. Occupation Status'] != 'Retired']"
   ]
  },
  {
   "cell_type": "code",
   "execution_count": 40,
   "id": "06493f04-382e-4778-a215-e37ac6f538fa",
   "metadata": {},
   "outputs": [],
   "source": [
    "# Apply one-hot encoding\n",
    "df_clean = pd.get_dummies(df_clean, columns=['4. Occupation Status'], drop_first=True)"
   ]
  },
  {
   "cell_type": "code",
   "execution_count": 42,
   "id": "adcbecff-92f0-45bb-ae34-0e7fe2bf8f1e",
   "metadata": {},
   "outputs": [],
   "source": [
    "# Convert boolean True/False to integer 1/0 for occupation columns\n",
    "occupation_cols = [col for col in df_clean.columns if '4. Occupation Status_' in col]\n",
    "df_clean[occupation_cols] = df_clean[occupation_cols].astype(int)"
   ]
  },
  {
   "cell_type": "code",
   "execution_count": 44,
   "id": "916a1bd9-e9fd-4e15-8036-ae39f8d9edad",
   "metadata": {},
   "outputs": [
    {
     "data": {
      "text/plain": [
       "5. What type of organizations are you affiliated with?\n",
       "University                        236\n",
       "Private                            54\n",
       "School                             41\n",
       "Company                            29\n",
       "University, Company                19\n",
       "University, Private                16\n",
       "School, University                  9\n",
       "Company, Private                    7\n",
       "Goverment                           5\n",
       "University, Company, Private        5\n",
       "School, University, Private         4\n",
       "University, N/A                     3\n",
       "University, Goverment               2\n",
       "School, Company                     2\n",
       "School, N/A                         2\n",
       "University, Goverment, Private      1\n",
       "School, Private                     1\n",
       "University, Company, Goverment      1\n",
       "Name: count, dtype: int64"
      ]
     },
     "execution_count": 44,
     "metadata": {},
     "output_type": "execute_result"
    }
   ],
   "source": [
    "df_clean['5. What type of organizations are you affiliated with?'].value_counts()"
   ]
  },
  {
   "cell_type": "code",
   "execution_count": 46,
   "id": "164aa0ac-5a0a-462c-a5db-d0cab75baea0",
   "metadata": {},
   "outputs": [],
   "source": [
    "# Clean whitespace and split multiple affiliations\n",
    "df_clean['5. What type of organizations are you affiliated with?'] = \\\n",
    "    df_clean['5. What type of organizations are you affiliated with?'].fillna('').apply(lambda x: [i.strip() for i in x.split(',')])\n",
    "\n",
    "# Use MultiLabelBinarizer\n",
    "from sklearn.preprocessing import MultiLabelBinarizer\n",
    "mlb = MultiLabelBinarizer()\n",
    "\n",
    "# Transform the multi-label column\n",
    "affiliation_dummies = pd.DataFrame(\n",
    "    mlb.fit_transform(df_clean['5. What type of organizations are you affiliated with?']),\n",
    "    columns=['Aff_' + col for col in mlb.classes_],\n",
    "    index=df_clean.index\n",
    ")\n",
    "\n",
    "# Concatenate with original DataFrame\n",
    "df_clean = pd.concat([df_clean.drop(columns=['5. What type of organizations are you affiliated with?']), affiliation_dummies], axis=1)\n"
   ]
  },
  {
   "cell_type": "code",
   "execution_count": 48,
   "id": "95a17e54-cc30-429d-b9ea-8da33ddedd16",
   "metadata": {},
   "outputs": [
    {
     "data": {
      "text/plain": [
       "6. Do you use social media?\n",
       "Yes    435\n",
       "No       2\n",
       "Name: count, dtype: int64"
      ]
     },
     "execution_count": 48,
     "metadata": {},
     "output_type": "execute_result"
    }
   ],
   "source": [
    "# Check unique values\n",
    "df_clean['6. Do you use social media?'].value_counts()"
   ]
  },
  {
   "cell_type": "code",
   "execution_count": 50,
   "id": "5c840311-3e34-46f8-b597-d2ca0835a564",
   "metadata": {},
   "outputs": [],
   "source": [
    "df_clean['6. Do you use social media?'] = df_clean['6. Do you use social media?'].map({'Yes': 1, 'No': 0})"
   ]
  },
  {
   "cell_type": "code",
   "execution_count": 52,
   "id": "add740a8-cc6f-4ad9-b57e-1289717c4ad0",
   "metadata": {},
   "outputs": [
    {
     "data": {
      "text/plain": [
       "7. What social media platforms do you commonly use?\n",
       "Facebook, Instagram, YouTube                                                 31\n",
       "Facebook, YouTube                                                            27\n",
       "Facebook, Instagram, YouTube, Snapchat                                       24\n",
       "Facebook, Instagram, YouTube, Discord                                        18\n",
       "Facebook                                                                     17\n",
       "                                                                             ..\n",
       "Facebook, Discord, Reddit                                                     1\n",
       "Instagram, Discord, Reddit, Pinterest, TikTok                                 1\n",
       "Twitter, Instagram, YouTube, Snapchat, Discord, Reddit, Pinterest, TikTok     1\n",
       "Facebook, YouTube, Snapchat                                                   1\n",
       "Instagram, YouTube, Snapchat, Discord, Reddit, Pinterest, TikTok              1\n",
       "Name: count, Length: 121, dtype: int64"
      ]
     },
     "execution_count": 52,
     "metadata": {},
     "output_type": "execute_result"
    }
   ],
   "source": [
    "df_clean['7. What social media platforms do you commonly use?'].value_counts()"
   ]
  },
  {
   "cell_type": "code",
   "execution_count": 54,
   "id": "8bc8722d-426d-4f6f-a89b-ad03fbe382d2",
   "metadata": {},
   "outputs": [],
   "source": [
    "# Create dummy variables for top platforms\n",
    "platforms = ['Instagram', 'Facebook', 'Twitter', 'Snapchat', 'YouTube']\n",
    "\n",
    "for platform in platforms:\n",
    "    df_clean[f'platform_{platform}'] = df_clean['7. What social media platforms do you commonly use?']\\\n",
    "                                        .str.contains(platform, case=False, na=False).astype(int)\n"
   ]
  },
  {
   "cell_type": "code",
   "execution_count": 56,
   "id": "5d11d534-8101-4c74-844e-6ad394ebe229",
   "metadata": {},
   "outputs": [],
   "source": [
    "#Drop the original column (optional)\n",
    "df_clean.drop(columns=['7. What social media platforms do you commonly use?'], inplace=True)\n"
   ]
  },
  {
   "cell_type": "code",
   "execution_count": 58,
   "id": "70ad60d0-0270-47e8-a6ce-269e3a918a00",
   "metadata": {},
   "outputs": [
    {
     "data": {
      "text/plain": [
       "8. What is the average time you spend on social media every day?\n",
       "More than 5 hours        107\n",
       "Between 2 and 3 hours     92\n",
       "Between 3 and 4 hours     85\n",
       "Between 1 and 2 hours     62\n",
       "Between 4 and 5 hours     61\n",
       "Less than an Hour         30\n",
       "Name: count, dtype: int64"
      ]
     },
     "execution_count": 58,
     "metadata": {},
     "output_type": "execute_result"
    }
   ],
   "source": [
    "# Check unique values\n",
    "df_clean['8. What is the average time you spend on social media every day?'].value_counts()"
   ]
  },
  {
   "cell_type": "code",
   "execution_count": 60,
   "id": "2da573ad-f51a-494e-92e8-24aaf8ec0638",
   "metadata": {},
   "outputs": [],
   "source": [
    "time_mapping = {\n",
    "    'Less than an Hour': 0.5,\n",
    "    'Between 1 and 2 hours': 1.5,\n",
    "    'Between 2 and 3 hours': 2.5,\n",
    "    'Between 3 and 4 hours': 3.5,\n",
    "    'Between 4 and 5 hours': 4.5,\n",
    "    'More than 5 hours': 6\n",
    "}\n"
   ]
  },
  {
   "cell_type": "code",
   "execution_count": 62,
   "id": "f965485c-845b-4cfa-8a91-7bde67a76160",
   "metadata": {},
   "outputs": [],
   "source": [
    "#Code to Apply the Mapping:\n",
    "df_clean['8. What is the average time you spend on social media every day?'] = \\\n",
    "    df_clean['8. What is the average time you spend on social media every day?'].map(time_mapping)\n"
   ]
  },
  {
   "cell_type": "code",
   "execution_count": 64,
   "id": "b42979c2-c0c3-42ae-90c5-c2ee39639be3",
   "metadata": {},
   "outputs": [
    {
     "name": "stdout",
     "output_type": "stream",
     "text": [
      "8. What is the average time you spend on social media every day?\n",
      "0.5     30\n",
      "1.5     62\n",
      "2.5     92\n",
      "3.5     85\n",
      "4.5     61\n",
      "6.0    107\n",
      "Name: count, dtype: int64\n"
     ]
    }
   ],
   "source": [
    "# Check how many entries fall into each mapped category\n",
    "print(df_clean['8. What is the average time you spend on social media every day?'].value_counts().sort_index())\n"
   ]
  },
  {
   "cell_type": "code",
   "execution_count": 66,
   "id": "b79bca44-f179-465b-a685-6a7c871498f1",
   "metadata": {},
   "outputs": [
    {
     "data": {
      "text/plain": [
       "['1. What is your age?',\n",
       " '6. Do you use social media?',\n",
       " '8. What is the average time you spend on social media every day?',\n",
       " '9. How often do you find yourself using Social media without a specific purpose?',\n",
       " '10. How often do you get distracted by Social media when you are busy doing something?',\n",
       " \"11. Do you feel restless if you haven't used Social media in a while?\",\n",
       " '12. On a scale of 1 to 5, how easily distracted are you?',\n",
       " '13. On a scale of 1 to 5, how much are you bothered by worries?',\n",
       " '14. Do you find it difficult to concentrate on things?',\n",
       " '15. On a scale of 1-5, how often do you compare yourself to other successful people through the use of social media?',\n",
       " '16. Following the previous question, how do you feel about these comparisons, generally speaking?',\n",
       " '17. How often do you look to seek validation from features of social media?',\n",
       " '18. How often do you feel depressed or down?',\n",
       " '19. On a scale of 1 to 5, how frequently does your interest in daily activities fluctuate?',\n",
       " '20. On a scale of 1 to 5, how often do you face issues regarding sleep?',\n",
       " 'Gender_binary',\n",
       " '3. Relationship Status_Married',\n",
       " '3. Relationship Status_Single',\n",
       " '4. Occupation Status_School Student',\n",
       " '4. Occupation Status_University Student',\n",
       " 'Aff_Company',\n",
       " 'Aff_Goverment',\n",
       " 'Aff_N/A',\n",
       " 'Aff_Private',\n",
       " 'Aff_School',\n",
       " 'Aff_University',\n",
       " 'platform_Instagram',\n",
       " 'platform_Facebook',\n",
       " 'platform_Twitter',\n",
       " 'platform_Snapchat',\n",
       " 'platform_YouTube']"
      ]
     },
     "execution_count": 66,
     "metadata": {},
     "output_type": "execute_result"
    }
   ],
   "source": [
    "df_clean.columns.tolist()"
   ]
  },
  {
   "cell_type": "code",
   "execution_count": 68,
   "id": "74272b05-ca5b-4b60-989e-09e35086595a",
   "metadata": {},
   "outputs": [],
   "source": [
    "# df_clean['depression_binary'] = df_clean['18. How often do you feel depressed or down?'].apply(lambda x: 1 if x >= 3 else 0)"
   ]
  },
  {
   "cell_type": "code",
   "execution_count": 70,
   "id": "1a2745ae-71b4-4461-9d07-7df84125986c",
   "metadata": {},
   "outputs": [],
   "source": [
    "# # Save final cleaned and preprocessed dataset to CSV\n",
    "# df_clean.to_csv(\"smmh_final_clean.csv\", index=False)"
   ]
  },
  {
   "cell_type": "code",
   "execution_count": 73,
   "id": "a55c9404-667e-48cd-bcc1-94a0b4834f80",
   "metadata": {},
   "outputs": [
    {
     "name": "stdout",
     "output_type": "stream",
     "text": [
      "Reordered and saved as 'smmh_final_model_ready.csv'\n"
     ]
    }
   ],
   "source": [
    "# Assume df_clean is your cleaned and feature-engineered DataFrame\n",
    "# and 'depression_binary' is your target variable\n",
    "\n",
    "# # Step 1: Reorder columns to move target to the end\n",
    "# other_columns = [col for col in df_clean.columns if col != 'depression_binary']\n",
    "# df_clean = df_clean[other_columns + ['depression_binary']]\n",
    "\n",
    "# Step 2: Save to CSV\n",
    "df_clean.to_csv(\"smmh_final_model_ready.csv\", index=False)\n",
    "print(\"Reordered and saved as 'smmh_final_model_ready.csv'\")\n"
   ]
  },
  {
   "cell_type": "code",
   "execution_count": null,
   "id": "d6d8c788-b42c-4403-b3fa-053b95725529",
   "metadata": {},
   "outputs": [],
   "source": []
  },
  {
   "cell_type": "code",
   "execution_count": 75,
   "id": "6ccfb301-b331-471f-b788-609a93856d5d",
   "metadata": {},
   "outputs": [
    {
     "data": {
      "text/plain": [
       "Index(['1. What is your age?', '6. Do you use social media?',\n",
       "       '8. What is the average time you spend on social media every day?',\n",
       "       '9. How often do you find yourself using Social media without a specific purpose?',\n",
       "       '10. How often do you get distracted by Social media when you are busy doing something?',\n",
       "       '11. Do you feel restless if you haven't used Social media in a while?',\n",
       "       '12. On a scale of 1 to 5, how easily distracted are you?',\n",
       "       '13. On a scale of 1 to 5, how much are you bothered by worries?',\n",
       "       '14. Do you find it difficult to concentrate on things?',\n",
       "       '15. On a scale of 1-5, how often do you compare yourself to other successful people through the use of social media?',\n",
       "       '16. Following the previous question, how do you feel about these comparisons, generally speaking?',\n",
       "       '17. How often do you look to seek validation from features of social media?',\n",
       "       '18. How often do you feel depressed or down?',\n",
       "       '19. On a scale of 1 to 5, how frequently does your interest in daily activities fluctuate?',\n",
       "       '20. On a scale of 1 to 5, how often do you face issues regarding sleep?',\n",
       "       'Gender_binary', '3. Relationship Status_Married',\n",
       "       '3. Relationship Status_Single', '4. Occupation Status_School Student',\n",
       "       '4. Occupation Status_University Student', 'Aff_Company',\n",
       "       'Aff_Goverment', 'Aff_N/A', 'Aff_Private', 'Aff_School',\n",
       "       'Aff_University', 'platform_Instagram', 'platform_Facebook',\n",
       "       'platform_Twitter', 'platform_Snapchat', 'platform_YouTube'],\n",
       "      dtype='object')"
      ]
     },
     "execution_count": 75,
     "metadata": {},
     "output_type": "execute_result"
    }
   ],
   "source": [
    "df_clean.columns"
   ]
  },
  {
   "cell_type": "code",
   "execution_count": 94,
   "id": "6641422b-2aa6-47cb-8870-e770c9cf2d90",
   "metadata": {},
   "outputs": [
    {
     "data": {
      "text/html": [
       "<style type=\"text/css\">\n",
       "#T_becb9_row0_col1 {\n",
       "  background-color: #f7fbff;\n",
       "  color: #000000;\n",
       "}\n",
       "#T_becb9_row1_col1 {\n",
       "  background-color: #f6faff;\n",
       "  color: #000000;\n",
       "}\n",
       "#T_becb9_row2_col1 {\n",
       "  background-color: #f4f9fe;\n",
       "  color: #000000;\n",
       "}\n",
       "#T_becb9_row3_col1 {\n",
       "  background-color: #d8e7f5;\n",
       "  color: #000000;\n",
       "}\n",
       "#T_becb9_row4_col1 {\n",
       "  background-color: #d5e5f4;\n",
       "  color: #000000;\n",
       "}\n",
       "#T_becb9_row5_col1 {\n",
       "  background-color: #c1d9ed;\n",
       "  color: #000000;\n",
       "}\n",
       "#T_becb9_row6_col1 {\n",
       "  background-color: #b9d6ea;\n",
       "  color: #000000;\n",
       "}\n",
       "#T_becb9_row7_col1 {\n",
       "  background-color: #4e9acb;\n",
       "  color: #f1f1f1;\n",
       "}\n",
       "#T_becb9_row8_col1 {\n",
       "  background-color: #08306b;\n",
       "  color: #f1f1f1;\n",
       "}\n",
       "</style>\n",
       "<table id=\"T_becb9\">\n",
       "  <thead>\n",
       "    <tr>\n",
       "      <th class=\"blank level0\" >&nbsp;</th>\n",
       "      <th id=\"T_becb9_level0_col0\" class=\"col_heading level0 col0\" >Mental_Health_Question</th>\n",
       "      <th id=\"T_becb9_level0_col1\" class=\"col_heading level0 col1\" >Best_P_Value</th>\n",
       "    </tr>\n",
       "  </thead>\n",
       "  <tbody>\n",
       "    <tr>\n",
       "      <th id=\"T_becb9_level0_row0\" class=\"row_heading level0 row0\" >0</th>\n",
       "      <td id=\"T_becb9_row0_col0\" class=\"data row0 col0\" >18. How often do you feel depressed or down?</td>\n",
       "      <td id=\"T_becb9_row0_col1\" class=\"data row0 col1\" >0.0144</td>\n",
       "    </tr>\n",
       "    <tr>\n",
       "      <th id=\"T_becb9_level0_row1\" class=\"row_heading level0 row1\" >1</th>\n",
       "      <td id=\"T_becb9_row1_col0\" class=\"data row1 col0\" >14. Do you find it difficult to concentrate on things?</td>\n",
       "      <td id=\"T_becb9_row1_col1\" class=\"data row1 col1\" >0.0162</td>\n",
       "    </tr>\n",
       "    <tr>\n",
       "      <th id=\"T_becb9_level0_row2\" class=\"row_heading level0 row2\" >2</th>\n",
       "      <td id=\"T_becb9_row2_col0\" class=\"data row2 col0\" >13. On a scale of 1 to 5, how much are you bothered by worries?</td>\n",
       "      <td id=\"T_becb9_row2_col1\" class=\"data row2 col1\" >0.0192</td>\n",
       "    </tr>\n",
       "    <tr>\n",
       "      <th id=\"T_becb9_level0_row3\" class=\"row_heading level0 row3\" >3</th>\n",
       "      <td id=\"T_becb9_row3_col0\" class=\"data row3 col0\" >15. On a scale of 1-5, how often do you compare yourself to other successful people through the use of social media?</td>\n",
       "      <td id=\"T_becb9_row3_col1\" class=\"data row3 col1\" >0.0604</td>\n",
       "    </tr>\n",
       "    <tr>\n",
       "      <th id=\"T_becb9_level0_row4\" class=\"row_heading level0 row4\" >4</th>\n",
       "      <td id=\"T_becb9_row4_col0\" class=\"data row4 col0\" >11. Do you feel restless if you haven't used Social media in a while?</td>\n",
       "      <td id=\"T_becb9_row4_col1\" class=\"data row4 col1\" >0.0650</td>\n",
       "    </tr>\n",
       "    <tr>\n",
       "      <th id=\"T_becb9_level0_row5\" class=\"row_heading level0 row5\" >5</th>\n",
       "      <td id=\"T_becb9_row5_col0\" class=\"data row5 col0\" >20. On a scale of 1 to 5, how often do you face issues regarding sleep?</td>\n",
       "      <td id=\"T_becb9_row5_col1\" class=\"data row5 col1\" >0.0927</td>\n",
       "    </tr>\n",
       "    <tr>\n",
       "      <th id=\"T_becb9_level0_row6\" class=\"row_heading level0 row6\" >6</th>\n",
       "      <td id=\"T_becb9_row6_col0\" class=\"data row6 col0\" >17. How often do you look to seek validation from features of social media?</td>\n",
       "      <td id=\"T_becb9_row6_col1\" class=\"data row6 col1\" >0.1003</td>\n",
       "    </tr>\n",
       "    <tr>\n",
       "      <th id=\"T_becb9_level0_row7\" class=\"row_heading level0 row7\" >7</th>\n",
       "      <td id=\"T_becb9_row7_col0\" class=\"data row7 col0\" >19. On a scale of 1 to 5, how frequently does your interest in daily activities fluctuate?</td>\n",
       "      <td id=\"T_becb9_row7_col1\" class=\"data row7 col1\" >0.1872</td>\n",
       "    </tr>\n",
       "    <tr>\n",
       "      <th id=\"T_becb9_level0_row8\" class=\"row_heading level0 row8\" >8</th>\n",
       "      <td id=\"T_becb9_row8_col0\" class=\"data row8 col0\" >16. Following the previous question, how do you feel about these comparisons, generally speaking?</td>\n",
       "      <td id=\"T_becb9_row8_col1\" class=\"data row8 col1\" >0.3087</td>\n",
       "    </tr>\n",
       "  </tbody>\n",
       "</table>\n"
      ],
      "text/plain": [
       "<pandas.io.formats.style.Styler at 0x194ccd97050>"
      ]
     },
     "metadata": {},
     "output_type": "display_data"
    },
    {
     "name": "stdout",
     "output_type": "stream",
     "text": [
      "✅ T-Test results saved successfully as 'TTest_Results.csv'\n"
     ]
    }
   ],
   "source": [
    "# ------------------ Step 1: Save T-Test Results Table ------------------\n",
    "\n",
    "import pandas as pd\n",
    "\n",
    "# Define T-Test Results\n",
    "results_data = {\n",
    "    'Mental_Health_Question': [\n",
    "        '18. How often do you feel depressed or down?',\n",
    "        '14. Do you find it difficult to concentrate on things?',\n",
    "        '13. On a scale of 1 to 5, how much are you bothered by worries?',\n",
    "        '15. On a scale of 1-5, how often do you compare yourself to other successful people through the use of social media?',\n",
    "        '11. Do you feel restless if you haven\\'t used Social media in a while?',\n",
    "        '20. On a scale of 1 to 5, how often do you face issues regarding sleep?',\n",
    "        '17. How often do you look to seek validation from features of social media?',\n",
    "        '19. On a scale of 1 to 5, how frequently does your interest in daily activities fluctuate?',\n",
    "        '16. Following the previous question, how do you feel about these comparisons, generally speaking?'\n",
    "    ],\n",
    "    'Best_P_Value': [0.0144, 0.0162, 0.0192, 0.0604, 0.0650, 0.0927, 0.1003, 0.1872, 0.3087]\n",
    "}\n",
    "\n",
    "# Create DataFrame\n",
    "results_df = pd.DataFrame(results_data)\n",
    "\n",
    "# Sort by Best_P_Value ascending\n",
    "results_df = results_df.sort_values(by='Best_P_Value').reset_index(drop=True)\n",
    "\n",
    "# Save the table as CSV\n",
    "results_df.to_csv('TTest_Results.csv', index=False)\n",
    "\n",
    "# Display nicely\n",
    "from IPython.display import display\n",
    "display(results_df.style.background_gradient(cmap='Blues').format({\"Best_P_Value\": \"{:.4f}\"}))\n",
    "\n",
    "print(\"✅ T-Test results saved successfully as 'TTest_Results.csv'\")\n"
   ]
  },
  {
   "cell_type": "code",
   "execution_count": 96,
   "id": "1dea0765-e4a0-4ae7-bfc7-ac54e9cb1d86",
   "metadata": {},
   "outputs": [
    {
     "data": {
      "image/png": "[encoded data removed]",
      "text/plain": [
       "<Figure size 1200x700 with 1 Axes>"
      ]
     },
     "metadata": {},
     "output_type": "display_data"
    },
    {
     "name": "stdout",
     "output_type": "stream",
     "text": [
      "✅ T-Test P-Value Bar Plot saved successfully as 'TTest_PValue_Barplot.png'\n"
     ]
    }
   ],
   "source": [
    "# ------------------ Step 2: Save T-Test Bar Plot ------------------\n",
    "\n",
    "import matplotlib.pyplot as plt\n",
    "import seaborn as sns\n",
    "\n",
    "# Create Bar Plot\n",
    "plt.figure(figsize=(12, 7))\n",
    "sns.barplot(\n",
    "    x='Best_P_Value',\n",
    "    y='Mental_Health_Question',\n",
    "    data=results_df,\n",
    "    palette='coolwarm'\n",
    ")\n",
    "\n",
    "# Add red line for significance threshold\n",
    "plt.axvline(x=0.05, color='red', linestyle='--', label='Significance Threshold (p=0.05)')\n",
    "\n",
    "# Titles and labels\n",
    "plt.title(\"T-Test Best P-Values for Mental Health Questions\", fontsize=16)\n",
    "plt.xlabel(\"Best p-value\", fontsize=14)\n",
    "plt.xlim(0, 0.35)\n",
    "plt.ylabel(\"Mental Health Question\", fontsize=14)\n",
    "plt.legend()\n",
    "\n",
    "# Clean layout\n",
    "plt.tight_layout()\n",
    "\n",
    "# Save the plot\n",
    "plt.savefig('TTest_PValue_Barplot.png', dpi=300, bbox_inches='tight')\n",
    "\n",
    "# Show the plot\n",
    "plt.show()\n",
    "\n",
    "print(\"✅ T-Test P-Value Bar Plot saved successfully as 'TTest_PValue_Barplot.png'\")\n"
   ]
  },
  {
   "cell_type": "code",
   "execution_count": null,
   "id": "7fffe600-27ad-44e8-8b3e-e09c151fdf91",
   "metadata": {},
   "outputs": [],
   "source": []
  },
  {
   "cell_type": "code",
   "execution_count": null,
   "id": "f1cd96ba-d160-4e63-afb8-0551926d7bcf",
   "metadata": {},
   "outputs": [],
   "source": []
  }
 ],
 "metadata": {
  "kernelspec": {
   "display_name": "Python [conda env:base] *",
   "language": "python",
   "name": "conda-base-py"
  },
  "language_info": {
   "codemirror_mode": {
    "name": "ipython",
    "version": 3
   },
   "file_extension": ".py",
   "mimetype": "text/x-python",
   "name": "python",
   "nbconvert_exporter": "python",
   "pygments_lexer": "ipython3",
   "version": "3.12.7"
  }
 },
 "nbformat": 4,
 "nbformat_minor": 5
}
